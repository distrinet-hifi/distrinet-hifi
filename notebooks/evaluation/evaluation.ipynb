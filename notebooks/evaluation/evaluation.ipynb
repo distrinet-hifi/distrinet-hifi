{
 "cells": [
  {
   "cell_type": "code",
   "execution_count": 10,
   "id": "2a63bf70-c338-4fc3-b1c6-292f79081fa0",
   "metadata": {},
   "outputs": [],
   "source": [
    "from asynciojobs import Scheduler\n",
    "from apssh import SshNode, SshJob, Run, RunString, Push"
   ]
  },
  {
   "cell_type": "code",
   "execution_count": 11,
   "id": "23389017-8e03-4bb5-9e2c-aef369c4a302",
   "metadata": {},
   "outputs": [],
   "source": [
    "HOSTNAME = 'faraday.inria.fr'\n",
    "SLICE = 'inria_distrinet'\n",
    "NODES = ['fit01', 'fit03', 'fit06', 'fit07']\n",
    "LEADER = NODES[0]\n",
    "WORKERS = NODES[1:]\n",
    "PATH = '/path/to/data/files/'"
   ]
  },
  {
   "cell_type": "code",
   "execution_count": 12,
   "id": "fa7302f1-5004-4f4b-8319-d42808fe122e",
   "metadata": {},
   "outputs": [
    {
     "ename": "RuntimeError",
     "evalue": "This event loop is already running",
     "output_type": "error",
     "traceback": [
      "\u001b[0;31m---------------------------------------------------------------------------\u001b[0m",
      "\u001b[0;31mRuntimeError\u001b[0m                              Traceback (most recent call last)",
      "\u001b[0;32m/tmp/ipykernel_15025/498170754.py\u001b[0m in \u001b[0;36m<module>\u001b[0;34m\u001b[0m\n\u001b[0;32m----> 1\u001b[0;31m \u001b[0mfaraday\u001b[0m \u001b[0;34m=\u001b[0m \u001b[0mSshNode\u001b[0m\u001b[0;34m(\u001b[0m\u001b[0mhostname\u001b[0m\u001b[0;34m=\u001b[0m\u001b[0mHOSTNAME\u001b[0m\u001b[0;34m,\u001b[0m \u001b[0musername\u001b[0m\u001b[0;34m=\u001b[0m\u001b[0mSLICE\u001b[0m\u001b[0;34m,\u001b[0m \u001b[0mverbose\u001b[0m\u001b[0;34m=\u001b[0m\u001b[0;32mFalse\u001b[0m\u001b[0;34m)\u001b[0m\u001b[0;34m\u001b[0m\u001b[0;34m\u001b[0m\u001b[0m\n\u001b[0m\u001b[1;32m      2\u001b[0m \u001b[0mnodes\u001b[0m \u001b[0;34m=\u001b[0m \u001b[0;34m{\u001b[0m\u001b[0mnode_name\u001b[0m\u001b[0;34m:\u001b[0m \u001b[0mSshNode\u001b[0m\u001b[0;34m(\u001b[0m\u001b[0mgateway\u001b[0m\u001b[0;34m=\u001b[0m\u001b[0mfaraday\u001b[0m\u001b[0;34m,\u001b[0m \u001b[0mhostname\u001b[0m\u001b[0;34m=\u001b[0m\u001b[0mnode_name\u001b[0m\u001b[0;34m,\u001b[0m \u001b[0musername\u001b[0m\u001b[0;34m=\u001b[0m\u001b[0;34m'root'\u001b[0m\u001b[0;34m,\u001b[0m \u001b[0mverbose\u001b[0m\u001b[0;34m=\u001b[0m\u001b[0;32mFalse\u001b[0m\u001b[0;34m)\u001b[0m \u001b[0;32mfor\u001b[0m \u001b[0mnode_name\u001b[0m \u001b[0;32min\u001b[0m \u001b[0mNODES\u001b[0m\u001b[0;34m}\u001b[0m\u001b[0;34m\u001b[0m\u001b[0;34m\u001b[0m\u001b[0m\n\u001b[1;32m      3\u001b[0m \u001b[0mscheduler\u001b[0m \u001b[0;34m=\u001b[0m \u001b[0mScheduler\u001b[0m\u001b[0;34m(\u001b[0m\u001b[0;34m)\u001b[0m\u001b[0;34m\u001b[0m\u001b[0;34m\u001b[0m\u001b[0m\n",
      "\u001b[0;32m/usr/local/lib/python3.7/site-packages/apssh/nodes.py\u001b[0m in \u001b[0;36m__init__\u001b[0;34m(self, hostname, username, keys, **kwds)\u001b[0m\n\u001b[1;32m    161\u001b[0m             \u001b[0musername\u001b[0m \u001b[0;34m=\u001b[0m \u001b[0;34m\"root\"\u001b[0m\u001b[0;34m\u001b[0m\u001b[0;34m\u001b[0m\u001b[0m\n\u001b[1;32m    162\u001b[0m         \u001b[0;32mif\u001b[0m \u001b[0;32mnot\u001b[0m \u001b[0mkeys\u001b[0m\u001b[0;34m:\u001b[0m\u001b[0;34m\u001b[0m\u001b[0;34m\u001b[0m\u001b[0m\n\u001b[0;32m--> 163\u001b[0;31m             \u001b[0mkeys\u001b[0m \u001b[0;34m=\u001b[0m \u001b[0mload_agent_keys\u001b[0m\u001b[0;34m(\u001b[0m\u001b[0;34m)\u001b[0m\u001b[0;34m\u001b[0m\u001b[0;34m\u001b[0m\u001b[0m\n\u001b[0m\u001b[1;32m    164\u001b[0m         \u001b[0;32mif\u001b[0m \u001b[0;32mnot\u001b[0m \u001b[0mkeys\u001b[0m\u001b[0;34m:\u001b[0m\u001b[0;34m\u001b[0m\u001b[0;34m\u001b[0m\u001b[0m\n\u001b[1;32m    165\u001b[0m             \u001b[0mkeys\u001b[0m \u001b[0;34m=\u001b[0m \u001b[0mload_private_keys\u001b[0m\u001b[0;34m(\u001b[0m\u001b[0;34m)\u001b[0m\u001b[0;34m\u001b[0m\u001b[0;34m\u001b[0m\u001b[0m\n",
      "\u001b[0;32m/usr/local/lib/python3.7/site-packages/apssh/keys.py\u001b[0m in \u001b[0;36mload_agent_keys\u001b[0;34m(agent_path, loop)\u001b[0m\n\u001b[1;32m    102\u001b[0m         \u001b[0;32mreturn\u001b[0m \u001b[0;34m[\u001b[0m\u001b[0;34m]\u001b[0m\u001b[0;34m\u001b[0m\u001b[0;34m\u001b[0m\u001b[0m\n\u001b[1;32m    103\u001b[0m     \u001b[0mloop\u001b[0m \u001b[0;34m=\u001b[0m \u001b[0mloop\u001b[0m \u001b[0;32mor\u001b[0m \u001b[0masyncio\u001b[0m\u001b[0;34m.\u001b[0m\u001b[0mget_event_loop\u001b[0m\u001b[0;34m(\u001b[0m\u001b[0;34m)\u001b[0m\u001b[0;34m\u001b[0m\u001b[0;34m\u001b[0m\u001b[0m\n\u001b[0;32m--> 104\u001b[0;31m     \u001b[0;32mreturn\u001b[0m \u001b[0mloop\u001b[0m\u001b[0;34m.\u001b[0m\u001b[0mrun_until_complete\u001b[0m\u001b[0;34m(\u001b[0m\u001b[0mco_load_agent_keys\u001b[0m\u001b[0;34m(\u001b[0m\u001b[0magent_path\u001b[0m\u001b[0;34m,\u001b[0m \u001b[0mloop\u001b[0m\u001b[0;34m)\u001b[0m\u001b[0;34m)\u001b[0m\u001b[0;34m\u001b[0m\u001b[0;34m\u001b[0m\u001b[0m\n\u001b[0m\u001b[1;32m    105\u001b[0m \u001b[0;34m\u001b[0m\u001b[0m\n\u001b[1;32m    106\u001b[0m \u001b[0;34m\u001b[0m\u001b[0m\n",
      "\u001b[0;32m/usr/lib64/python3.7/asyncio/base_events.py\u001b[0m in \u001b[0;36mrun_until_complete\u001b[0;34m(self, future)\u001b[0m\n\u001b[1;32m    561\u001b[0m         \"\"\"\n\u001b[1;32m    562\u001b[0m         \u001b[0mself\u001b[0m\u001b[0;34m.\u001b[0m\u001b[0m_check_closed\u001b[0m\u001b[0;34m(\u001b[0m\u001b[0;34m)\u001b[0m\u001b[0;34m\u001b[0m\u001b[0;34m\u001b[0m\u001b[0m\n\u001b[0;32m--> 563\u001b[0;31m         \u001b[0mself\u001b[0m\u001b[0;34m.\u001b[0m\u001b[0m_check_runnung\u001b[0m\u001b[0;34m(\u001b[0m\u001b[0;34m)\u001b[0m\u001b[0;34m\u001b[0m\u001b[0;34m\u001b[0m\u001b[0m\n\u001b[0m\u001b[1;32m    564\u001b[0m \u001b[0;34m\u001b[0m\u001b[0m\n\u001b[1;32m    565\u001b[0m         \u001b[0mnew_task\u001b[0m \u001b[0;34m=\u001b[0m \u001b[0;32mnot\u001b[0m \u001b[0mfutures\u001b[0m\u001b[0;34m.\u001b[0m\u001b[0misfuture\u001b[0m\u001b[0;34m(\u001b[0m\u001b[0mfuture\u001b[0m\u001b[0;34m)\u001b[0m\u001b[0;34m\u001b[0m\u001b[0;34m\u001b[0m\u001b[0m\n",
      "\u001b[0;32m/usr/lib64/python3.7/asyncio/base_events.py\u001b[0m in \u001b[0;36m_check_runnung\u001b[0;34m(self)\u001b[0m\n\u001b[1;32m    521\u001b[0m     \u001b[0;32mdef\u001b[0m \u001b[0m_check_runnung\u001b[0m\u001b[0;34m(\u001b[0m\u001b[0mself\u001b[0m\u001b[0;34m)\u001b[0m\u001b[0;34m:\u001b[0m\u001b[0;34m\u001b[0m\u001b[0;34m\u001b[0m\u001b[0m\n\u001b[1;32m    522\u001b[0m         \u001b[0;32mif\u001b[0m \u001b[0mself\u001b[0m\u001b[0;34m.\u001b[0m\u001b[0mis_running\u001b[0m\u001b[0;34m(\u001b[0m\u001b[0;34m)\u001b[0m\u001b[0;34m:\u001b[0m\u001b[0;34m\u001b[0m\u001b[0;34m\u001b[0m\u001b[0m\n\u001b[0;32m--> 523\u001b[0;31m             \u001b[0;32mraise\u001b[0m \u001b[0mRuntimeError\u001b[0m\u001b[0;34m(\u001b[0m\u001b[0;34m'This event loop is already running'\u001b[0m\u001b[0;34m)\u001b[0m\u001b[0;34m\u001b[0m\u001b[0;34m\u001b[0m\u001b[0m\n\u001b[0m\u001b[1;32m    524\u001b[0m         \u001b[0;32mif\u001b[0m \u001b[0mevents\u001b[0m\u001b[0;34m.\u001b[0m\u001b[0m_get_running_loop\u001b[0m\u001b[0;34m(\u001b[0m\u001b[0;34m)\u001b[0m \u001b[0;32mis\u001b[0m \u001b[0;32mnot\u001b[0m \u001b[0;32mNone\u001b[0m\u001b[0;34m:\u001b[0m\u001b[0;34m\u001b[0m\u001b[0;34m\u001b[0m\u001b[0m\n\u001b[1;32m    525\u001b[0m             raise RuntimeError(\n",
      "\u001b[0;31mRuntimeError\u001b[0m: This event loop is already running"
     ]
    }
   ],
   "source": [
    "faraday = SshNode(hostname=HOSTNAME, username=SLICE, verbose=False)\n",
    "nodes = {node_name: SshNode(gateway=faraday, hostname=node_name, username='root', verbose=False) for node_name in NODES}\n",
    "scheduler = Scheduler()"
   ]
  },
  {
   "cell_type": "code",
   "execution_count": null,
   "id": "8a7bb4ff-2428-40a3-9901-d1a4814ab315",
   "metadata": {},
   "outputs": [],
   "source": [
    "check_lease = SshJob (\n",
    "    node = faraday,\n",
    "    critical = True,\n",
    "    command = Run('rleases --check'),\n",
    "    scheduler = scheduler\n",
    ")\n",
    "\n",
    "load_images = SshJob (\n",
    "    node = faraday,\n",
    "    commands = [\n",
    "        Run(\"rload -i u18.04-distrinet_hifi_leader %s\" % LEADER),\n",
    "        Run(\"rload -i u18.04-distrinet_hifi_worker %s\" % ' '.join(WORKERS)),\n",
    "        Run(\"rwait %s\" % ' '.join(NODES)),\n",
    "        Run(\"sleep 60\")\n",
    "    ],\n",
    "    required = check_lease,\n",
    "    scheduler = scheduler\n",
    ")"
   ]
  },
  {
   "cell_type": "code",
   "execution_count": null,
   "id": "c7b85529-1ecf-4b2e-a020-7b6545f060de",
   "metadata": {},
   "outputs": [],
   "source": [
    "net_intfs = {}\n",
    "for node_name in NODES:\n",
    "    node = nodes[node_name]\n",
    "    ip_address = '10.10.20.%s/24' % node_name[-1:]\n",
    "    net_intf = SshJob (\n",
    "        node = node,\n",
    "        command = Run('ifconfig', 'data', ip_address, 'up'),\n",
    "        required = load_images,\n",
    "        scheduler = scheduler\n",
    "    )\n",
    "    net_intfs[node_name] = net_intf"
   ]
  },
  {
   "cell_type": "code",
   "execution_count": null,
   "id": "0652418c-3ffc-4367-84d2-18547913d07f",
   "metadata": {},
   "outputs": [],
   "source": [
    "monitoring_agents = {}\n",
    "for node_name in NODES:\n",
    "    node = nodes[node_name]\n",
    "    ip_address = '10.10.20.%s/24' % node_name[-1:]\n",
    "    monitoring_agent = SshJob (\n",
    "        node = node,\n",
    "        command = Run('nohup python3 /root/experiment/agent.py',\n",
    "                      '--ip=10.10.20.%s' % node_name[-1:],\n",
    "                      '--bastion=10.10.20.%s' % LEADER[-1:],\n",
    "                      '> /dev/null 2>&1 < /dev/null &'\n",
    "                     ),\n",
    "        required = net_intfs[node_name],\n",
    "        scheduler = scheduler\n",
    "    )\n",
    "    monitoring_agents[node_name] = monitoring_agent"
   ]
  },
  {
   "cell_type": "code",
   "execution_count": null,
   "id": "b56de033-66c2-4a01-95b8-a34fcbe90cd8",
   "metadata": {},
   "outputs": [],
   "source": [
    "of_controller = SshJob (\n",
    "        node = nodes[LEADER],\n",
    "        command = Run('nohup ryu-manager', \n",
    "                      '/usr/lib/python3/dist-packages/ryu/app/simple_switch_stp_13.py',\n",
    "                      '> ryu.out 2>&1 < /dev/null &'),\n",
    "        required = net_intfs[LEADER],\n",
    "        scheduler = scheduler\n",
    "    )"
   ]
  },
  {
   "cell_type": "code",
   "execution_count": 9,
   "id": "055fc2e3-1130-43e0-be67-2c2da6512480",
   "metadata": {},
   "outputs": [
    {
     "name": "stderr",
     "output_type": "stream",
     "text": [
      "/usr/lib64/python3.7/tokenize.py:586: RuntimeWarning: coroutine 'load_agent_keys.<locals>.co_load_agent_keys' was never awaited\n",
      "  spos, epos, pos = (lnum, start), (lnum, end), end\n",
      "RuntimeWarning: Enable tracemalloc to get the object allocation traceback\n"
     ]
    },
    {
     "ename": "NameError",
     "evalue": "name 'nodes' is not defined",
     "output_type": "error",
     "traceback": [
      "\u001b[0;31m---------------------------------------------------------------------------\u001b[0m",
      "\u001b[0;31mNameError\u001b[0m                                 Traceback (most recent call last)",
      "\u001b[0;32m/tmp/ipykernel_15025/654713387.py\u001b[0m in \u001b[0;36m<module>\u001b[0;34m\u001b[0m\n\u001b[1;32m      1\u001b[0m experiment = SshJob (\n\u001b[0;32m----> 2\u001b[0;31m         \u001b[0mnode\u001b[0m \u001b[0;34m=\u001b[0m \u001b[0mnodes\u001b[0m\u001b[0;34m[\u001b[0m\u001b[0mLEADER\u001b[0m\u001b[0;34m]\u001b[0m\u001b[0;34m,\u001b[0m\u001b[0;34m\u001b[0m\u001b[0;34m\u001b[0m\u001b[0m\n\u001b[0m\u001b[1;32m      3\u001b[0m         commands = [\n\u001b[1;32m      4\u001b[0m             Run('cd ~/Distrinet/mininet/ ;', \n\u001b[1;32m      5\u001b[0m                 \u001b[0;34m'export PYTHONPATH=$PYTHONPATH:mininet: ;'\u001b[0m\u001b[0;34m,\u001b[0m\u001b[0;34m\u001b[0m\u001b[0;34m\u001b[0m\u001b[0m\n",
      "\u001b[0;31mNameError\u001b[0m: name 'nodes' is not defined"
     ]
    }
   ],
   "source": [
    "experiment = SshJob (\n",
    "        node = nodes[LEADER],\n",
    "        commands = [\n",
    "            Run('cd ~/Distrinet/mininet/ ;', \n",
    "                'export PYTHONPATH=$PYTHONPATH:mininet: ;',\n",
    "                'python3 bin/dmn',\n",
    "                '--bastion=10.10.20.%s' % LEADER[-1:],\n",
    "                '--workers=\"%s\"' % ','.join(['10.10.20.%s' % node_name[-1:] for node_name in NODES]),\n",
    "                '--custom=custom/experiment.py',\n",
    "                '--controller=lxcremote,ip=192.168.0.1',\n",
    "                '--mapper=expmapper',\n",
    "                '--topo=exptopo,5,10,4',\n",
    "                '--test=experiment,100M,150'\n",
    "            ),\n",
    "            Run('pkill -SIGKILL ryu')\n",
    "        ],\n",
    "        required = [of_controller]+list(monitoring_agents.values()),\n",
    "        scheduler = scheduler\n",
    "    )"
   ]
  },
  {
   "cell_type": "code",
   "execution_count": null,
   "id": "9b6870d9-f048-491a-9e76-a21d084836c6",
   "metadata": {},
   "outputs": [],
   "source": [
    "ok = scheduler.orchestrate()"
   ]
  }
 ],
 "metadata": {
  "kernelspec": {
   "display_name": "Python 3 (ipykernel)",
   "language": "python",
   "name": "python3"
  },
  "language_info": {
   "codemirror_mode": {
    "name": "ipython",
    "version": 3
   },
   "file_extension": ".py",
   "mimetype": "text/x-python",
   "name": "python",
   "nbconvert_exporter": "python",
   "pygments_lexer": "ipython3",
   "version": "3.7.9"
  }
 },
 "nbformat": 4,
 "nbformat_minor": 5
}
