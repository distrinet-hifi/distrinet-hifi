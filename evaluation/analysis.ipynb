{
 "cells": [
  {
   "cell_type": "code",
   "execution_count": 30,
   "id": "c3453f33-e60d-46b6-93dd-c74ba488f34b",
   "metadata": {},
   "outputs": [],
   "source": [
    "import numpy as np\n",
    "import matplotlib.pyplot as plt\n",
    "import json\n",
    "from datetime import datetime"
   ]
  },
  {
   "cell_type": "code",
   "execution_count": 31,
   "id": "731afaaf-fc1d-445c-aad7-651ad84f910e",
   "metadata": {},
   "outputs": [],
   "source": [
    "PATH = 'data/results/'"
   ]
  },
  {
   "cell_type": "code",
   "execution_count": 38,
   "id": "557f1d3e-f381-448e-a3df-ca96c0c3f4c2",
   "metadata": {},
   "outputs": [],
   "source": [
    "def strtotime(s): \n",
    "    d = datetime.strptime(s, '%H:%M:%S.%f') \n",
    "    h = d.hour \n",
    "    m = d.minute \n",
    "    s = d.second + d.microsecond/1000000 \n",
    "    return s + 60 * (m + 60 * h)\n",
    "\n",
    "def fct(filename): \n",
    "    with open(filename, 'r') as f: \n",
    "        lines = [line[:-1] for line in f.readlines()]\n",
    "    if len(lines) == 1:\n",
    "        return float('inf')\n",
    "    return strtotime(lines[-1]) - strtotime(lines[0])\n",
    "\n",
    "def timeline(filename):\n",
    "    with open(filename, 'r') as f:\n",
    "        lines = [line[:-1] for line in f.readlines()]\n",
    "    times = []\n",
    "    for i in range(len(lines)//2):\n",
    "        t1, t2 = strtotime(lines[2*i]), strtotime(lines[2*i+1])\n",
    "        times.append((t1, t2))\n",
    "    return times\n",
    "\n",
    "def all_fcts(filename):\n",
    "    times = timeline(filename)\n",
    "    return [t2-t1 for (t1, t2) in times]"
   ]
  },
  {
   "cell_type": "code",
   "execution_count": 39,
   "id": "752da1e1-e497-434b-a152-390e6f7272c2",
   "metadata": {},
   "outputs": [],
   "source": [
    "embedding = {}\n",
    "embedding['H1'] = ['h%i' % i for i in range( 6, 16)]\n",
    "embedding['H2'] = ['h%i' % i for i in range(16, 26)]\n",
    "embedding['H3'] = ['h%i' % i for i in range(26, 36)]\n",
    "embedding['H4'] = ['h%i' % i for i in range(36, 46)]\n",
    "colors = {}\n",
    "colors['H1'] = 'blue'\n",
    "colors['H2'] = 'red'\n",
    "colors['H3'] = 'green'\n",
    "colors['H4'] = 'magenta'"
   ]
  },
  {
   "cell_type": "code",
   "execution_count": 40,
   "id": "cca55885-9136-4697-828d-76e46ee9d6e1",
   "metadata": {},
   "outputs": [
    {
     "name": "stderr",
     "output_type": "stream",
     "text": [
      "/usr/local/lib64/python3.7/site-packages/numpy/core/_asarray.py:83: VisibleDeprecationWarning: Creating an ndarray from ragged nested sequences (which is a list-or-tuple of lists-or-tuples-or ndarrays with different lengths or shapes) is deprecated. If you meant to do this, you must specify 'dtype=object' when creating the ndarray\n",
      "  return array(a, dtype, copy=False, order=order)\n"
     ]
    },
    {
     "data": {
      "image/png": "[encoded data removed]",
      "text/plain": [
       "<Figure size 460.8x172.8 with 1 Axes>"
      ]
     },
     "metadata": {
      "needs_background": "light"
     },
     "output_type": "display_data"
    }
   ],
   "source": [
    "fcts = {}\n",
    "fcts['G1/L'] = [fct(PATH + 'h%i.out' % h) for h in [6, 7, 8, 9]]\n",
    "fcts['G1/R'] = [fct(PATH + 'h%i.out' % h) for h in range(16, 26)]\n",
    "fcts['G2/L'] = [fct(PATH + 'h%i.out' % h) for h in [10, 11, 12]]\n",
    "fcts['G2/R'] = [fct(PATH + 'h%i.out' % h) for h in range(26, 36)]\n",
    "fcts['G3/L'] = [fct(PATH + 'h%i.out' % h) for h in [13, 14, 15]]\n",
    "fcts['G3/R'] = [fct(PATH + 'h%i.out' % h) for h in range(36, 46)]\n",
    "\n",
    "colours = ['blue', 'red', 'blue', 'green', 'blue', 'magenta']\n",
    "fig = plt.figure(figsize=[6.4, 2.4])\n",
    "bplot = plt.boxplot(fcts.values(), notch=True, positions=[0.5, 1, 2, 2.5, 3.5, 4], showfliers=False)\n",
    "for patch, colour in zip(bplot['boxes'], colours):\n",
    "    patch.set_color(colour)\n",
    "    \n",
    "plt.plot([], [], color='blue', label='H1')\n",
    "plt.plot([], [], color='red', label='H2')\n",
    "plt.plot([], [], color='green', label='H3')\n",
    "plt.plot([], [], color='magenta', label='H4')\n",
    "\n",
    "plt.xticks([0.75, 2.25, 3.75], ['Group I', 'Group II', 'Group III'])\n",
    "plt.ylabel(\"FCTs (s)\"); plt.title(\"Flow Completion Times on overloaded infrastructure\")\n",
    "plt.legend()\n",
    "plt.show()\n",
    "fig.savefig(PATH + \"fcts.png\")"
   ]
  },
  {
   "cell_type": "code",
   "execution_count": 41,
   "id": "461c917d-757f-4962-a787-69e7fe984389",
   "metadata": {},
   "outputs": [
    {
     "data": {
      "text/plain": [
       "{'G1/L': [88.73200000000361,\n",
       "  88.53699999999662,\n",
       "  88.49199999999837,\n",
       "  88.60099999999511],\n",
       " 'G1/R': [87.76900000000023,\n",
       "  87.75,\n",
       "  87.77300000000105,\n",
       "  87.77100000000064,\n",
       "  87.7699999999968,\n",
       "  87.7589999999982,\n",
       "  87.76600000000326,\n",
       "  87.78399999999965,\n",
       "  87.76299999999901,\n",
       "  87.76499999999942],\n",
       " 'G2/L': [17.830000000001746, 17.83600000000297, 17.822000000000116],\n",
       " 'G2/R': [21.002000000000407,\n",
       "  20.03399999999965,\n",
       "  20.986000000004424,\n",
       "  21.999000000003434,\n",
       "  20.639999999999418,\n",
       "  22.739000000001397,\n",
       "  22.4800000000032,\n",
       "  21.497999999999593,\n",
       "  20.851000000002387,\n",
       "  20.08600000000297],\n",
       " 'G3/L': [9.080000000001746, 9.080999999998312, 9.078999999997905],\n",
       " 'G3/R': [20.959999999999127,\n",
       "  19.705999999998312,\n",
       "  20.525000000001455,\n",
       "  20.527000000001863,\n",
       "  21.58299999999872,\n",
       "  20.330999999998312,\n",
       "  21.93499999999767,\n",
       "  21.93499999999767,\n",
       "  20.95900000000256,\n",
       "  20.506000000001222]}"
      ]
     },
     "execution_count": 41,
     "metadata": {},
     "output_type": "execute_result"
    }
   ],
   "source": [
    "fcts"
   ]
  },
  {
   "cell_type": "code",
   "execution_count": 15,
   "id": "b29da7e6-2bb5-49fc-8b24-031181b13e7b",
   "metadata": {},
   "outputs": [],
   "source": [
    "def get_data(filename):\n",
    "    with open(filename, 'r') as f:\n",
    "        raw = f.read()\n",
    "    return json.loads(raw)\n",
    "\n",
    "def clean_extremes(data, inf=5, sup=95):\n",
    "    dinf = np.percentile(data, inf)\n",
    "    dsup = np.percentile(data, sup)\n",
    "    data = [d for d in data if d >= dinf and d <= dsup]\n",
    "    return data\n",
    "\n",
    "def relative_errors(data):\n",
    "    rel = [abs(data['rtds'][i]-data['rtds_'][i])/data['rtds_'][i]*100 for i in range(len(data['rtds']))]\n",
    "    return rel"
   ]
  },
  {
   "cell_type": "code",
   "execution_count": 42,
   "id": "351ec07c-6d99-4fb1-be43-4f624673b71a",
   "metadata": {},
   "outputs": [
    {
     "name": "stdout",
     "output_type": "stream",
     "text": [
      "6464\n",
      "6447\n",
      "6446\n",
      "6456\n",
      "2673\n",
      "2589\n",
      "2674\n",
      "1448\n",
      "1449\n",
      "1436\n",
      "6660\n",
      "6661\n",
      "6658\n",
      "6667\n",
      "6658\n",
      "6665\n",
      "6689\n",
      "6668\n",
      "6666\n",
      "6656\n",
      "6822\n",
      "6772\n",
      "6847\n",
      "6827\n",
      "6803\n",
      "6827\n",
      "6841\n",
      "6831\n",
      "6825\n",
      "6796\n",
      "6877\n",
      "6819\n",
      "6812\n",
      "6860\n",
      "6864\n",
      "6854\n",
      "6844\n",
      "6873\n",
      "6848\n",
      "6808\n"
     ]
    },
    {
     "data": {
      "image/png": "[encoded data removed]",
      "text/plain": [
       "<Figure size 460.8x172.8 with 1 Axes>"
      ]
     },
     "metadata": {
      "needs_background": "light"
     },
     "output_type": "display_data"
    }
   ],
   "source": [
    "fig = plt.figure(figsize=[6.4, 2.4])\n",
    "\n",
    "for host in embedding:\n",
    "    plt.plot([], [], color=colors[host], label=host)\n",
    "    for h in embedding[host]:\n",
    "        data = get_data(PATH + 's1-et%s--%s-eth0' % (h, h))\n",
    "        rel = relative_errors(data)\n",
    "        rel_clean = clean_extremes(rel)\n",
    "        print(len(rel_clean))\n",
    "        p = plt.plot(sorted(rel_clean), np.arange(len(rel_clean))/len(rel_clean), linewidth=2, color=colors[host])\n",
    "\n",
    "plt.grid()\n",
    "plt.legend(loc='lower right')\n",
    "plt.xlabel(\"Percentage Absolute Error (%)\"); plt.title(\"Percentage Absolute Error CDFs on overloaded infrastructure\")\n",
    "# plt.xscale('log')\n",
    "plt.subplots_adjust(bottom=0.20)\n",
    "plt.savefig(PATH + \"cdfs_pae.png\")\n",
    "plt.show()"
   ]
  },
  {
   "cell_type": "code",
   "execution_count": null,
   "id": "a4925aca-e49f-461c-a13c-7a07f19fad30",
   "metadata": {},
   "outputs": [],
   "source": []
  }
 ],
 "metadata": {
  "kernelspec": {
   "display_name": "Python 3 (ipykernel)",
   "language": "python",
   "name": "python3"
  },
  "language_info": {
   "codemirror_mode": {
    "name": "ipython",
    "version": 3
   },
   "file_extension": ".py",
   "mimetype": "text/x-python",
   "name": "python",
   "nbconvert_exporter": "python",
   "pygments_lexer": "ipython3",
   "version": "3.7.9"
  }
 },
 "nbformat": 4,
 "nbformat_minor": 5
}
